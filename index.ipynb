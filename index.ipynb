{
 "cells": [
  {
   "cell_type": "markdown",
   "metadata": {},
   "source": [
    "# Section Recap"
   ]
  },
  {
   "cell_type": "markdown",
   "metadata": {},
   "source": [
    "## Introduction\n",
    "\n",
    "This short lesson summarizes key takeaways from section 48."
   ]
  },
  {
   "cell_type": "markdown",
   "metadata": {},
   "source": [
    "## Objectives\n",
    "You will be able to:\n",
    "* Understand and explain what was covered in this section\n",
    "* Understand and explain why this section will help you become a data scientist"
   ]
  },
  {
   "cell_type": "markdown",
   "metadata": {},
   "source": [
    "## Key Takeaways\n",
    "\n",
    "The key takeaways from this section include:\n",
    "\n",
    "* Generative models have several applications in the areas of image processing and text analysis, and also have the property that they have the ability to automatically learn the natural features of a dataset\n",
    "* Generative Models learn the joint probability distribution $ P(x,y)$, where Discriminative  Models learn the conditional probability distribution $ P(y|x)$\n",
    "* Where \"standard\" AEs build generative models to exactly replicate the same data, variational autoencoders generate \"variations\" on the input image\n",
    "* Variational Autoencoders (VAEs) are powerful generative models that produce excellent results for complex applications from generating (fake) human faces, to producing music\n",
    "* Unlike Variational Autoencoders (VAEs), Generative Adversarial Networks  (GANs) do not work by calculating probability density estimations like VAEs, but are based on a Game Theoretic approach with an objective to find the Nash equilibrium between the two networks"
   ]
  },
  {
   "cell_type": "code",
   "execution_count": null,
   "metadata": {},
   "outputs": [],
   "source": []
  }
 ],
 "metadata": {
  "kernelspec": {
   "display_name": "Python 3",
   "language": "python",
   "name": "python3"
  },
  "language_info": {
   "codemirror_mode": {
    "name": "ipython",
    "version": 3
   },
   "file_extension": ".py",
   "mimetype": "text/x-python",
   "name": "python",
   "nbconvert_exporter": "python",
   "pygments_lexer": "ipython3",
   "version": "3.6.4"
  }
 },
 "nbformat": 4,
 "nbformat_minor": 2
}
